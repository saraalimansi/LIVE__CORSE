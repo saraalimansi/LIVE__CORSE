{
  "metadata": {
    "kernelspec": {
      "name": "python",
      "display_name": "Python (Pyodide)",
      "language": "python"
    },
    "language_info": {
      "codemirror_mode": {
        "name": "python",
        "version": 3
      },
      "file_extension": ".py",
      "mimetype": "text/x-python",
      "name": "python",
      "nbconvert_exporter": "python",
      "pygments_lexer": "ipython3",
      "version": "3.8"
    }
  },
  "nbformat_minor": 4,
  "nbformat": 4,
  "cells": [
    {
      "cell_type": "code",
      "source": "###ساره علي منسي عيد سكشن 4 ###\nimport random\n##Step 1:\ndef generate_prime(bits):\n    prime_num = random.getrandbits(bits)\n    while not is_prime(prime_num):\n        prime_num = random.getrandbits(bits)\n    return prime_num\n\ndef is_prime(n, k=5):\n    if n <= 1:\n        return False\n    if n <= 3:\n        return True\n    for _ in range(k):\n        a = random.randint(2, n - 2)\n        if pow(a, n - 1, n) != 1:\n            return False\n    return True\n    \nbits = 8\np = generate_prime(bits)\nq = generate_prime(bits)\nN = p * q\n\nprint(\"p:\", p)\nprint(\"q:\", q)\nprint(\"N:\", N)\n#####################################\n##Step 2:\nphi = (p - 1) * (q - 1)\n\ndef prime_between(p, q):\n    prime = random.randint(min(p, q) + 1, max(p, q) - 1)\n    while not is_prime(prime):\n        prime = random.randint(min(p, q) + 1, max(p, q) - 1)\n    return prime\n\ne = prime_between(p, q)\nprint(\"e:\", e)\n\n###################################\n\n",
      "metadata": {
        "trusted": true
      },
      "outputs": [
        {
          "name": "stdout",
          "text": "p: 227\nq: 13\nN: 2951\ne: 181\n",
          "output_type": "stream"
        }
      ],
      "execution_count": 12
    },
    {
      "cell_type": "code",
      "source": "#step3:\ni = 1\nd = None\nwhile True:\n    d_candidate = ((phi * i) + 1) // e\n    if (d_candidate * e) % phi == 1:\n        d = d_candidate\n        break\n    i += 1\n\nprint(\"Private key d:\", d)",
      "metadata": {
        "trusted": true
      },
      "outputs": [
        {
          "name": "stdout",
          "text": "Private key d: 1813\n",
          "output_type": "stream"
        }
      ],
      "execution_count": 13
    },
    {
      "cell_type": "code",
      "source": "#encryption:\nplain=8\ncipher= pow(plain, e, N)\n\nprint(\"Ciphertext:\", cipher)\n",
      "metadata": {
        "trusted": true
      },
      "outputs": [
        {
          "name": "stdout",
          "text": "Ciphertext: 2842\n",
          "output_type": "stream"
        }
      ],
      "execution_count": 14
    },
    {
      "cell_type": "code",
      "source": "#decryption:\nplain_ = pow(cipher, d, N)\nprint(\"Decrypted plaintext:\", plain_)\n",
      "metadata": {
        "trusted": true
      },
      "outputs": [
        {
          "name": "stdout",
          "text": "Decrypted plaintext: 8\n",
          "output_type": "stream"
        }
      ],
      "execution_count": 15
    },
    {
      "cell_type": "code",
      "source": "",
      "metadata": {
        "trusted": true
      },
      "outputs": [],
      "execution_count": null
    }
  ]
}