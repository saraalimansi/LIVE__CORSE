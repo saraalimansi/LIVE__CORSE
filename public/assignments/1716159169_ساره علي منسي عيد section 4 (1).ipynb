{
  "metadata": {
    "kernelspec": {
      "name": "python",
      "display_name": "Python (Pyodide)",
      "language": "python"
    },
    "language_info": {
      "codemirror_mode": {
        "name": "python",
        "version": 3
      },
      "file_extension": ".py",
      "mimetype": "text/x-python",
      "name": "python",
      "nbconvert_exporter": "python",
      "pygments_lexer": "ipython3",
      "version": "3.8"
    }
  },
  "nbformat_minor": 4,
  "nbformat": 4,
  "cells": [
    {
      "cell_type": "code",
      "source": "###ساره علي منسي عيد سكشن 4 ###\n##Step 1:\nimport random\nimport sympy\ndef prime():\n    while True:\n        _prime = random.randint(2**10, 2**11) \n        if sympy.isprime(_prime): \n            return _prime\n\np = prime()\nq = prime()\n\nN = p * q\n\nprint(\"p:\", p)\nprint(\"q:\", q)\nprint(\"N:\", N)\n",
      "metadata": {
        "trusted": true
      },
      "outputs": [
        {
          "name": "stdout",
          "text": "p: 1973\nq: 2017\nN: 3979541\n",
          "output_type": "stream"
        }
      ],
      "execution_count": 13
    },
    {
      "cell_type": "code",
      "source": "##Step 2:\nphi = (p - 1) * (q - 1)\n\ndef betweennes(p, q):\n    while True:\n        prime = random.randint(min(p, q) + 1, max(p, q) - 1)\n        if sympy.isprime(prime):\n            return prime\n\ne = betweennes(p, q)\nprint(\"e:\", e)",
      "metadata": {
        "trusted": true
      },
      "outputs": [
        {
          "name": "stdout",
          "text": "e: 2003\n",
          "output_type": "stream"
        }
      ],
      "execution_count": 15
    },
    {
      "cell_type": "code",
      "source": "#step3:\ni = 1\nd = None\nwhile True:\n    d_ = ((phi * i) + 1) // e\n    if (d_ * e) % phi == 1:\n        d = d_\n        break\n    i += 1\n\nprint(\"Private key d:\", d)",
      "metadata": {
        "trusted": true
      },
      "outputs": [
        {
          "name": "stdout",
          "text": "Private key d: 1657307\n",
          "output_type": "stream"
        }
      ],
      "execution_count": 16
    },
    {
      "cell_type": "code",
      "source": "#encryption:\nplain=8\ncipher= pow(plain, e, N)\n\nprint(\"Ciphertext:\", cipher)\n",
      "metadata": {
        "trusted": true
      },
      "outputs": [
        {
          "name": "stdout",
          "text": "Ciphertext: 976578\n",
          "output_type": "stream"
        }
      ],
      "execution_count": 17
    },
    {
      "cell_type": "code",
      "source": "#decryption:\nplain_ = pow(cipher, d, N)\nprint(\"Decrypted plaintext:\", plain_)\n",
      "metadata": {
        "trusted": true
      },
      "outputs": [
        {
          "name": "stdout",
          "text": "Decrypted plaintext: 8\n",
          "output_type": "stream"
        }
      ],
      "execution_count": 18
    },
    {
      "cell_type": "code",
      "source": "",
      "metadata": {
        "trusted": true
      },
      "outputs": [],
      "execution_count": null
    }
  ]
}